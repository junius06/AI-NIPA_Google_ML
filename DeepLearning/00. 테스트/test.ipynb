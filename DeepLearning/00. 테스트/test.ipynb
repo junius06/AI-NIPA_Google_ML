{
 "cells": [
  {
   "cell_type": "code",
   "execution_count": null,
   "id": "f1c334a0",
   "metadata": {},
   "outputs": [
    {
     "ename": "",
     "evalue": "",
     "output_type": "error",
     "traceback": [
      "\u001b[1;31mThe kernel failed to start as the Python Environment 'Python 3.12.10' is no longer available. Consider selecting another kernel or refreshing the list of Python Environments."
     ]
    }
   ],
   "source": [
    "import sys, tensorflow as tf\n",
    "print(sys.executable)\n",
    "print(sys.version)\n",
    "print(\"TF:\", tf.__version__)"
   ]
  }
 ],
 "metadata": {
  "kernelspec": {
   "display_name": ".venv",
   "language": "python",
   "name": "python3"
  },
  "language_info": {
   "name": "python",
   "version": "3.12.10"
  }
 },
 "nbformat": 4,
 "nbformat_minor": 5
}
