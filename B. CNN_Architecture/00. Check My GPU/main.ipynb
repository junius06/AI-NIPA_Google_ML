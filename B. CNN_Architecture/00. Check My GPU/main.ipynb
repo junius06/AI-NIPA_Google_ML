{
 "cells": [
  {
   "cell_type": "code",
   "execution_count": null,
   "id": "de02c2d3",
   "metadata": {},
   "outputs": [],
   "source": [
    "import tensorflow as tf\n",
    "tf.config.list_physical_devices(\"GPU\")"
   ]
  }
 ],
 "metadata": {
  "language_info": {
   "name": "python"
  }
 },
 "nbformat": 4,
 "nbformat_minor": 5
}
