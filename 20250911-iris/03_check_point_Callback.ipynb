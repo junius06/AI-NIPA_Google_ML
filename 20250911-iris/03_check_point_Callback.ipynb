{
 "cells": [
  {
   "cell_type": "code",
   "execution_count": null,
   "id": "02e31689",
   "metadata": {},
   "outputs": [],
   "source": [
    "from tensorflow.keras import Sequential\n",
    "from tensorflow.keras.layers import Dense, Input\n",
    "\n",
    "model = Sequential()\n",
    "model.add(Input(shape=(4,))) # input layer\n",
    "model.add(Dense(50, activation='sigmoid')) # hidden layer\n",
    "model.add(Dense(30, activation='sigmoid')) # hidden layer\n",
    "model.add(Dense(3, activation='softmax')) # output layer\n",
    "# model.summary()\n",
    "\n",
    "model.compile(optimizer='adam', loss='sparse_categorical_crossentropy', metrics=['accuracy'])\n",
    "\n",
    "from sklearn.datasets import load_iris\n",
    "from sklearn.model_selection import train_test_split\n",
    "iris = load_iris()\n",
    "X_train, X_test, y_train, y_test = train_test_split(iris.data, iris.target, test_size=0.2, random_state=42)\n",
    "\n",
    "from tensorflow.keras.callbacks import ModelCheckpoint\n",
    "path = 'model-{epoch:02d}-{val_accuracy:.4f}.h5'\n",
    "checkpoint = ModelCheckpoint(path, save_best_only=True, monitor='val_accuracy', verbose=1)\n",
    "\n",
    "model.fit(X_train, y_train, validation_split=0.2, epochs=100, batch_size=50, callbacks=[checkpoint])"
   ]
  }
 ],
 "metadata": {
  "language_info": {
   "name": "python"
  }
 },
 "nbformat": 4,
 "nbformat_minor": 5
}
